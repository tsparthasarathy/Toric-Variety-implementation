{
  "nbformat": 4,
  "nbformat_minor": 0,
  "metadata": {
    "colab": {
      "provenance": [],
      "authorship_tag": "ABX9TyP9LLClrM035MihKsAOywkI",
      "include_colab_link": true
    },
    "kernelspec": {
      "name": "python3",
      "display_name": "Python 3"
    },
    "language_info": {
      "name": "python"
    }
  },
  "cells": [
    {
      "cell_type": "markdown",
      "metadata": {
        "id": "view-in-github",
        "colab_type": "text"
      },
      "source": [
        "<a href=\"https://colab.research.google.com/github/tsparthasarathy/Toric-Variety-implementation/blob/main/Computing_a_2D_affine_toric_variety_from_generators_of_the_cone.ipynb\" target=\"_parent\"><img src=\"https://colab.research.google.com/assets/colab-badge.svg\" alt=\"Open In Colab\"/></a>"
      ]
    },
    {
      "cell_type": "code",
      "source": [
        "import numpy as np\n",
        "import math\n",
        "import sympy\n",
        "from sympy import CC, symbols\n",
        "x , y = symbols('x, y')"
      ],
      "metadata": {
        "collapsed": true,
        "id": "1tjDnmrJ6A4L"
      },
      "execution_count": 1,
      "outputs": []
    },
    {
      "cell_type": "code",
      "source": [
        "x_1 = int(input(\"Enter 1st coordinate of the first vector: \"))\n",
        "y_1 = int(input(\"Enter 2nd coordinate of the first vector: \"))\n",
        "x_2 = int(input(\"Enter 1st coordinate of the second vector: \"))\n",
        "y_2 = int(input(\"Enter 2nd coordinate of the second vector: \"))\n",
        "R_1 = [ x_1 , x_2 ]\n",
        "R_2 = [ y_1 , y_2 ]\n",
        "A = np.array([ R_1,\n",
        "               R_2 ])\n",
        "print(A)\n",
        "\n"
      ],
      "metadata": {
        "colab": {
          "base_uri": "https://localhost:8080/"
        },
        "id": "4ACd5Ku898Xl",
        "outputId": "1f377cdf-f988-4f85-d1eb-07542edfc02d"
      },
      "execution_count": 2,
      "outputs": [
        {
          "output_type": "stream",
          "name": "stdout",
          "text": [
            "Enter 1st coordinate of the first vector: 1\n",
            "Enter 2nd coordinate of the first vector: 0\n",
            "Enter 1st coordinate of the second vector: 2\n",
            "Enter 2nd coordinate of the second vector: 3\n",
            "[[1 2]\n",
            " [0 3]]\n"
          ]
        }
      ]
    },
    {
      "cell_type": "code",
      "source": [
        "d_1 = math.gcd(x_1 , y_1)\n",
        "d_2 = math.gcd(x_2 , y_2)\n",
        "det_A = int(np.linalg.det(A))\n",
        "if det_A > 0 :\n",
        "  u_1 = [ int(-y_1/d_1) , int(x_1/d_1) ]\n",
        "  u_2 = [ int(y_2/d_2) , int(-x_2/d_2) ]\n",
        "else :\n",
        "  u_1 = [ int(y_1/d_1) , int(-x_1/d_1) ]\n",
        "  u_2 = [ int(-y_2/d_2) , int(x_2/d_2) ]\n",
        "print(u_1)\n",
        "print(u_2)\n"
      ],
      "metadata": {
        "colab": {
          "base_uri": "https://localhost:8080/"
        },
        "outputId": "e9b121dd-a50e-4a17-aaac-524eab262e3e",
        "id": "rNk5Xp31YD5C"
      },
      "execution_count": 4,
      "outputs": [
        {
          "output_type": "stream",
          "name": "stdout",
          "text": [
            "[0, 1]\n",
            "[3, -2]\n"
          ]
        }
      ]
    },
    {
      "cell_type": "code",
      "source": [
        "\n",
        "#Computing generators of the semigroup corresponding to a 2d cone ($\\sigma^{\\ast} \\cup M$)\n",
        "A_dual = np.array([u_1 ,\n",
        "               u_2])\n",
        "Chi = A_dual\n",
        "R = CC[x**A_dual[0,0]*y**A_dual[0,1] , x**A_dual[1,0]*y**A_dual[1,1]]\n",
        "x_less = A_dual[1,0]\n",
        "x_greater = A_dual[0,0]\n",
        "if A_dual[0,0] < A_dual[1,0]:\n",
        "  x_less = A_dual[0,0]\n",
        "  x_greater = A_dual[1,0]\n",
        "y_less = A_dual[1,1]\n",
        "y_greater = A_dual[0,1]\n",
        "if A_dual[0,1] < A_dual[1,1]:\n",
        "  y_less = A_dual[0,1]\n",
        "  y_greater = A_dual[1,1]\n",
        "for i in range(x_less , x_greater + 1 , 1):\n",
        "  for j in range(y_less , y_greater + 1 , 1):\n",
        "    C = np.array([i , j])\n",
        "    solution = np.linalg.solve(np.transpose(A_dual), C )\n",
        "    if 0<= solution[0] < 1 and 0 <= solution[1] < 1:\n",
        "      Chi = np.append(Chi, [C], axis=0)\n",
        "      R = R.unify(CC[x**i*y**j])\n",
        "print(Chi)\n",
        "R"
      ],
      "metadata": {
        "id": "yecveO3BGvrl",
        "colab": {
          "base_uri": "https://localhost:8080/"
        },
        "outputId": "2032b2a9-a85b-404b-d19b-dac48fa3fb3d"
      },
      "execution_count": 6,
      "outputs": [
        {
          "output_type": "stream",
          "name": "stdout",
          "text": [
            "[[ 0  1]\n",
            " [ 3 -2]\n",
            " [ 0  0]\n",
            " [ 1  0]\n",
            " [ 2 -1]]\n"
          ]
        },
        {
          "output_type": "execute_result",
          "data": {
            "text/plain": [
              "CC[y,x**3/y**2,1,x,x**2/y]"
            ]
          },
          "metadata": {},
          "execution_count": 6
        }
      ]
    },
    {
      "cell_type": "code",
      "source": [],
      "metadata": {
        "id": "MQYAYgY-4vLQ"
      },
      "execution_count": null,
      "outputs": []
    }
  ]
}